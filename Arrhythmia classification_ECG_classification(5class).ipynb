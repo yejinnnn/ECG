{
 "cells": [
  {
   "cell_type": "code",
   "execution_count": 23,
   "id": "a8aa9f72",
   "metadata": {
    "ExecuteTime": {
     "end_time": "2023-08-11T00:57:24.289537Z",
     "start_time": "2023-08-11T00:57:24.277537Z"
    }
   },
   "outputs": [],
   "source": [
    "import os\n",
    "import pandas as pd\n",
    "import numpy as np\n",
    "from sklearn.preprocessing import MinMaxScaler\n",
    "import joblib\n",
    "import seaborn as sns\n",
    "sns.set(color_codes=True)\n",
    "import matplotlib.pyplot as plt\n",
    "%matplotlib inline\n",
    "\n",
    "from numpy.random import seed\n",
    "from tensorflow.random import set_seed \n",
    "import tensorflow as tf\n",
    "\n",
    "from keras.layers import Input, Dropout, Dense, LSTM, TimeDistributed, RepeatVector\n",
    "from keras.models import Model\n",
    "from keras import regularizers\n",
    "import csv"
   ]
  },
  {
   "cell_type": "markdown",
   "id": "b4ecf166",
   "metadata": {},
   "source": [
    "## 데이터 불러오기"
   ]
  },
  {
   "cell_type": "code",
   "execution_count": 46,
   "id": "fff442a8",
   "metadata": {
    "ExecuteTime": {
     "end_time": "2023-08-11T01:15:16.353333Z",
     "start_time": "2023-08-11T01:15:14.443442Z"
    }
   },
   "outputs": [
    {
     "data": {
      "text/html": [
       "<div>\n",
       "<style scoped>\n",
       "    .dataframe tbody tr th:only-of-type {\n",
       "        vertical-align: middle;\n",
       "    }\n",
       "\n",
       "    .dataframe tbody tr th {\n",
       "        vertical-align: top;\n",
       "    }\n",
       "\n",
       "    .dataframe thead th {\n",
       "        text-align: right;\n",
       "    }\n",
       "</style>\n",
       "<table border=\"1\" class=\"dataframe\">\n",
       "  <thead>\n",
       "    <tr style=\"text-align: right;\">\n",
       "      <th></th>\n",
       "      <th>0</th>\n",
       "      <th>1</th>\n",
       "      <th>2</th>\n",
       "      <th>3</th>\n",
       "      <th>4</th>\n",
       "      <th>5</th>\n",
       "      <th>6</th>\n",
       "      <th>7</th>\n",
       "      <th>8</th>\n",
       "      <th>9</th>\n",
       "      <th>...</th>\n",
       "      <th>178</th>\n",
       "      <th>179</th>\n",
       "      <th>180</th>\n",
       "      <th>181</th>\n",
       "      <th>182</th>\n",
       "      <th>183</th>\n",
       "      <th>184</th>\n",
       "      <th>185</th>\n",
       "      <th>186</th>\n",
       "      <th>187</th>\n",
       "    </tr>\n",
       "  </thead>\n",
       "  <tbody>\n",
       "    <tr>\n",
       "      <th>0</th>\n",
       "      <td>0.977941</td>\n",
       "      <td>0.926471</td>\n",
       "      <td>0.681373</td>\n",
       "      <td>0.245098</td>\n",
       "      <td>0.154412</td>\n",
       "      <td>0.191176</td>\n",
       "      <td>0.151961</td>\n",
       "      <td>0.085784</td>\n",
       "      <td>0.058824</td>\n",
       "      <td>0.049020</td>\n",
       "      <td>...</td>\n",
       "      <td>0.0</td>\n",
       "      <td>0.0</td>\n",
       "      <td>0.0</td>\n",
       "      <td>0.0</td>\n",
       "      <td>0.0</td>\n",
       "      <td>0.0</td>\n",
       "      <td>0.0</td>\n",
       "      <td>0.0</td>\n",
       "      <td>0.0</td>\n",
       "      <td>0.0</td>\n",
       "    </tr>\n",
       "    <tr>\n",
       "      <th>1</th>\n",
       "      <td>0.960114</td>\n",
       "      <td>0.863248</td>\n",
       "      <td>0.461538</td>\n",
       "      <td>0.196581</td>\n",
       "      <td>0.094017</td>\n",
       "      <td>0.125356</td>\n",
       "      <td>0.099715</td>\n",
       "      <td>0.088319</td>\n",
       "      <td>0.074074</td>\n",
       "      <td>0.082621</td>\n",
       "      <td>...</td>\n",
       "      <td>0.0</td>\n",
       "      <td>0.0</td>\n",
       "      <td>0.0</td>\n",
       "      <td>0.0</td>\n",
       "      <td>0.0</td>\n",
       "      <td>0.0</td>\n",
       "      <td>0.0</td>\n",
       "      <td>0.0</td>\n",
       "      <td>0.0</td>\n",
       "      <td>0.0</td>\n",
       "    </tr>\n",
       "    <tr>\n",
       "      <th>2</th>\n",
       "      <td>1.000000</td>\n",
       "      <td>0.659459</td>\n",
       "      <td>0.186486</td>\n",
       "      <td>0.070270</td>\n",
       "      <td>0.070270</td>\n",
       "      <td>0.059459</td>\n",
       "      <td>0.056757</td>\n",
       "      <td>0.043243</td>\n",
       "      <td>0.054054</td>\n",
       "      <td>0.045946</td>\n",
       "      <td>...</td>\n",
       "      <td>0.0</td>\n",
       "      <td>0.0</td>\n",
       "      <td>0.0</td>\n",
       "      <td>0.0</td>\n",
       "      <td>0.0</td>\n",
       "      <td>0.0</td>\n",
       "      <td>0.0</td>\n",
       "      <td>0.0</td>\n",
       "      <td>0.0</td>\n",
       "      <td>0.0</td>\n",
       "    </tr>\n",
       "    <tr>\n",
       "      <th>3</th>\n",
       "      <td>0.925414</td>\n",
       "      <td>0.665746</td>\n",
       "      <td>0.541436</td>\n",
       "      <td>0.276243</td>\n",
       "      <td>0.196133</td>\n",
       "      <td>0.077348</td>\n",
       "      <td>0.071823</td>\n",
       "      <td>0.060773</td>\n",
       "      <td>0.066298</td>\n",
       "      <td>0.058011</td>\n",
       "      <td>...</td>\n",
       "      <td>0.0</td>\n",
       "      <td>0.0</td>\n",
       "      <td>0.0</td>\n",
       "      <td>0.0</td>\n",
       "      <td>0.0</td>\n",
       "      <td>0.0</td>\n",
       "      <td>0.0</td>\n",
       "      <td>0.0</td>\n",
       "      <td>0.0</td>\n",
       "      <td>0.0</td>\n",
       "    </tr>\n",
       "    <tr>\n",
       "      <th>4</th>\n",
       "      <td>0.967136</td>\n",
       "      <td>1.000000</td>\n",
       "      <td>0.830986</td>\n",
       "      <td>0.586854</td>\n",
       "      <td>0.356808</td>\n",
       "      <td>0.248826</td>\n",
       "      <td>0.145540</td>\n",
       "      <td>0.089202</td>\n",
       "      <td>0.117371</td>\n",
       "      <td>0.150235</td>\n",
       "      <td>...</td>\n",
       "      <td>0.0</td>\n",
       "      <td>0.0</td>\n",
       "      <td>0.0</td>\n",
       "      <td>0.0</td>\n",
       "      <td>0.0</td>\n",
       "      <td>0.0</td>\n",
       "      <td>0.0</td>\n",
       "      <td>0.0</td>\n",
       "      <td>0.0</td>\n",
       "      <td>0.0</td>\n",
       "    </tr>\n",
       "  </tbody>\n",
       "</table>\n",
       "<p>5 rows × 188 columns</p>\n",
       "</div>"
      ],
      "text/plain": [
       "        0         1         2         3         4         5         6    \\\n",
       "0  0.977941  0.926471  0.681373  0.245098  0.154412  0.191176  0.151961   \n",
       "1  0.960114  0.863248  0.461538  0.196581  0.094017  0.125356  0.099715   \n",
       "2  1.000000  0.659459  0.186486  0.070270  0.070270  0.059459  0.056757   \n",
       "3  0.925414  0.665746  0.541436  0.276243  0.196133  0.077348  0.071823   \n",
       "4  0.967136  1.000000  0.830986  0.586854  0.356808  0.248826  0.145540   \n",
       "\n",
       "        7         8         9    ...  178  179  180  181  182  183  184  185  \\\n",
       "0  0.085784  0.058824  0.049020  ...  0.0  0.0  0.0  0.0  0.0  0.0  0.0  0.0   \n",
       "1  0.088319  0.074074  0.082621  ...  0.0  0.0  0.0  0.0  0.0  0.0  0.0  0.0   \n",
       "2  0.043243  0.054054  0.045946  ...  0.0  0.0  0.0  0.0  0.0  0.0  0.0  0.0   \n",
       "3  0.060773  0.066298  0.058011  ...  0.0  0.0  0.0  0.0  0.0  0.0  0.0  0.0   \n",
       "4  0.089202  0.117371  0.150235  ...  0.0  0.0  0.0  0.0  0.0  0.0  0.0  0.0   \n",
       "\n",
       "   186  187  \n",
       "0  0.0  0.0  \n",
       "1  0.0  0.0  \n",
       "2  0.0  0.0  \n",
       "3  0.0  0.0  \n",
       "4  0.0  0.0  \n",
       "\n",
       "[5 rows x 188 columns]"
      ]
     },
     "execution_count": 46,
     "metadata": {},
     "output_type": "execute_result"
    }
   ],
   "source": [
    "df_train = pd.read_csv(\"D:/Data/신호데이터/ECG/mitbih_train.csv/archive/mitbih_train.csv\", header=None)\n",
    "df_test = pd.read_csv(\"D:/Data/신호데이터/ECG/mitbih_train.csv/archive/mitbih_test.csv\", header=None)\n",
    "df_train.head()"
   ]
  },
  {
   "cell_type": "code",
   "execution_count": 47,
   "id": "7f47b164",
   "metadata": {
    "ExecuteTime": {
     "end_time": "2023-08-11T01:15:17.969013Z",
     "start_time": "2023-08-11T01:15:17.960038Z"
    }
   },
   "outputs": [
    {
     "data": {
      "text/plain": [
       "0    0\n",
       "1    0\n",
       "2    0\n",
       "3    0\n",
       "4    0\n",
       "Name: 187, dtype: int32"
      ]
     },
     "execution_count": 47,
     "metadata": {},
     "output_type": "execute_result"
    }
   ],
   "source": [
    "y_df = df_train.iloc[:, -1]\n",
    "y_df = y_df.astype('int')\n",
    "y_df.head()"
   ]
  },
  {
   "cell_type": "code",
   "execution_count": 32,
   "id": "c630902e",
   "metadata": {
    "ExecuteTime": {
     "end_time": "2023-08-11T00:58:10.542783Z",
     "start_time": "2023-08-11T00:58:10.441357Z"
    }
   },
   "outputs": [],
   "source": [
    "df = pd.read_csv(\"D:/Data/ECGDB/1/1.csv\", header=None)"
   ]
  },
  {
   "cell_type": "code",
   "execution_count": 48,
   "id": "12533605",
   "metadata": {
    "ExecuteTime": {
     "end_time": "2023-08-11T01:15:35.324044Z",
     "start_time": "2023-08-11T01:15:35.289137Z"
    }
   },
   "outputs": [
    {
     "name": "stdout",
     "output_type": "stream",
     "text": [
      "0    72471\n",
      "4     6431\n",
      "2     5788\n",
      "1     2223\n",
      "3      641\n",
      "Name: 187, dtype: int64\n"
     ]
    }
   ],
   "source": [
    "df_train[187]=df_train[187].astype(int)\n",
    "equilibre=df_train[187].value_counts()\n",
    "print(equilibre)"
   ]
  },
  {
   "cell_type": "code",
   "execution_count": 52,
   "id": "8e77ba61",
   "metadata": {
    "ExecuteTime": {
     "end_time": "2023-08-11T01:15:57.033563Z",
     "start_time": "2023-08-11T01:15:56.884256Z"
    }
   },
   "outputs": [
    {
     "data": {
      "text/plain": [
       "[<matplotlib.lines.Line2D at 0x14809e7d460>]"
      ]
     },
     "execution_count": 52,
     "metadata": {},
     "output_type": "execute_result"
    },
    {
     "data": {
      "image/png": "[encoded data removed]",
      "text/plain": [
       "<Figure size 432x288 with 1 Axes>"
      ]
     },
     "metadata": {
      "needs_background": "light"
     },
     "output_type": "display_data"
    }
   ],
   "source": [
    "plt.plot(df_train.loc[1,:500002])"
   ]
  },
  {
   "cell_type": "code",
   "execution_count": 53,
   "id": "c4998d31",
   "metadata": {
    "ExecuteTime": {
     "end_time": "2023-08-11T01:16:08.671032Z",
     "start_time": "2023-08-11T01:16:08.661095Z"
    }
   },
   "outputs": [],
   "source": [
    "def plot_equilibre(equilibre):\n",
    "    plt.figure(figsize=(10,10))\n",
    "    my_circle=plt.Circle( (0,0), 0.7, color='white')\n",
    "    plt.pie(equilibre, labels=['n','q','v','s','f'], colors=['red','green','blue','skyblue','orange'],autopct='%1.1f%%')\n",
    "    p=plt.gcf()\n",
    "    p.gca().add_artist(my_circle)\n",
    "    plt.show()"
   ]
  },
  {
   "cell_type": "code",
   "execution_count": 54,
   "id": "6a4c016c",
   "metadata": {
    "ExecuteTime": {
     "end_time": "2023-08-11T01:16:09.532784Z",
     "start_time": "2023-08-11T01:16:09.520809Z"
    }
   },
   "outputs": [
    {
     "name": "stdout",
     "output_type": "stream",
     "text": [
      "0    72471\n",
      "4     6431\n",
      "2     5788\n",
      "1     2223\n",
      "3      641\n",
      "Name: 187, dtype: int64\n"
     ]
    }
   ],
   "source": [
    "print(df_train[187].value_counts())\n",
    "\n",
    "# plot_equilibre(df_train[187].value_counts())"
   ]
  },
  {
   "cell_type": "code",
   "execution_count": 55,
   "id": "44ed424e",
   "metadata": {
    "ExecuteTime": {
     "end_time": "2023-08-11T01:16:10.679951Z",
     "start_time": "2023-08-11T01:16:10.634074Z"
    }
   },
   "outputs": [],
   "source": [
    "X_train = df_train.values[:, :-1]\n",
    "y_train = df_train.values[:, -1].astype(int)\n",
    "\n",
    "X_test  = df_test.values[:, :-1]\n",
    "y_test  = df_test.values[:, -1].astype(int)"
   ]
  },
  {
   "cell_type": "code",
   "execution_count": 56,
   "id": "0d017865",
   "metadata": {
    "ExecuteTime": {
     "end_time": "2023-08-11T01:16:11.510065Z",
     "start_time": "2023-08-11T01:16:11.285036Z"
    }
   },
   "outputs": [
    {
     "data": {
      "image/png": "[encoded data removed]",
      "text/plain": [
       "<Figure size 1440x432 with 1 Axes>"
      ]
     },
     "metadata": {
      "needs_background": "light"
     },
     "output_type": "display_data"
    }
   ],
   "source": [
    "C0 = np.argwhere(y_train == 0).flatten()\n",
    "C1 = np.argwhere(y_train == 1).flatten()\n",
    "C2 = np.argwhere(y_train == 2).flatten()\n",
    "C3 = np.argwhere(y_train == 3).flatten()\n",
    "C4 = np.argwhere(y_train == 4).flatten()\n",
    "\n",
    "x = np.arange(0, 187)*8/1000\n",
    "\n",
    "plt.figure(figsize=(20,6))\n",
    "plt.plot(x, X_train[C0, :][0], label=\"Normal\")\n",
    "plt.plot(x, X_train[C1, :][0], label=\"Artial Premature\")\n",
    "plt.plot(x, X_train[C2, :][0], label=\"Premature ventricular contraction\")\n",
    "plt.plot(x, X_train[C3, :][0], label=\"Fusion of ventricular and normal\")\n",
    "plt.plot(x, X_train[C4, :][0], label=\"Fusion of paced and normal\")\n",
    "plt.legend()\n",
    "plt.title(\"1-beat ECG for every category\", fontsize=20)\n",
    "plt.ylabel(\"Amplitude\", fontsize=15)\n",
    "plt.xlabel(\"Time (ms)\", fontsize=15)\n",
    "plt.show()"
   ]
  },
  {
   "cell_type": "code",
   "execution_count": 57,
   "id": "93e369ee",
   "metadata": {
    "ExecuteTime": {
     "end_time": "2023-08-11T01:16:13.356043Z",
     "start_time": "2023-08-11T01:16:13.345073Z"
    }
   },
   "outputs": [
    {
     "name": "stdout",
     "output_type": "stream",
     "text": [
      "(87554, 187, 1)\n",
      "(21892, 187, 1)\n"
     ]
    }
   ],
   "source": [
    "X_train = np.expand_dims(X_train, 2)\n",
    "X_test = np.expand_dims(X_test, 2)\n",
    "\n",
    "print(X_train.shape)\n",
    "print(X_test.shape)"
   ]
  },
  {
   "cell_type": "code",
   "execution_count": 58,
   "id": "68059396",
   "metadata": {
    "ExecuteTime": {
     "end_time": "2023-08-11T01:16:13.943584Z",
     "start_time": "2023-08-11T01:16:13.928624Z"
    }
   },
   "outputs": [
    {
     "name": "stdout",
     "output_type": "stream",
     "text": [
      "(87554, 5)\n",
      "(21892, 5)\n"
     ]
    }
   ],
   "source": [
    "from tensorflow.keras import utils\n",
    "y_train = utils.to_categorical(y_train)\n",
    "y_test  = utils.to_categorical(y_test)\n",
    "\n",
    "print(y_train.shape)\n",
    "print(y_test.shape)"
   ]
  },
  {
   "cell_type": "code",
   "execution_count": 59,
   "id": "edf49a49",
   "metadata": {
    "ExecuteTime": {
     "end_time": "2023-08-11T01:16:14.760199Z",
     "start_time": "2023-08-11T01:16:14.754265Z"
    }
   },
   "outputs": [],
   "source": [
    "n_obs, feature, depth = X_train.shape\n",
    "num_classes= 5"
   ]
  },
  {
   "cell_type": "markdown",
   "id": "a78c448b",
   "metadata": {},
   "source": [
    "## 모델 생성"
   ]
  },
  {
   "cell_type": "code",
   "execution_count": 60,
   "id": "304986ac",
   "metadata": {
    "ExecuteTime": {
     "end_time": "2023-08-11T01:16:17.997330Z",
     "start_time": "2023-08-11T01:16:15.462903Z"
    }
   },
   "outputs": [
    {
     "name": "stdout",
     "output_type": "stream",
     "text": [
      "Model: \"model\"\n",
      "__________________________________________________________________________________________________\n",
      " Layer (type)                   Output Shape         Param #     Connected to                     \n",
      "==================================================================================================\n",
      " input_1 (InputLayer)           [(None, 187, 1)]     0           []                               \n",
      "                                                                                                  \n",
      " conv1d (Conv1D)                (None, 183, 32)      192         ['input_1[0][0]']                \n",
      "                                                                                                  \n",
      " conv1d_1 (Conv1D)              (None, 183, 32)      5152        ['conv1d[0][0]']                 \n",
      "                                                                                                  \n",
      " activation (Activation)        (None, 183, 32)      0           ['conv1d_1[0][0]']               \n",
      "                                                                                                  \n",
      " conv1d_2 (Conv1D)              (None, 183, 32)      5152        ['activation[0][0]']             \n",
      "                                                                                                  \n",
      " add (Add)                      (None, 183, 32)      0           ['conv1d_2[0][0]',               \n",
      "                                                                  'conv1d[0][0]']                 \n",
      "                                                                                                  \n",
      " activation_3 (Activation)      (None, 183, 32)      0           ['add[0][0]']                    \n",
      "                                                                                                  \n",
      " max_pooling1d_1 (MaxPooling1D)  (None, 90, 32)      0           ['activation_3[0][0]']           \n",
      "                                                                                                  \n",
      " conv1d_5 (Conv1D)              (None, 90, 32)       5152        ['max_pooling1d_1[0][0]']        \n",
      "                                                                                                  \n",
      " activation_4 (Activation)      (None, 90, 32)       0           ['conv1d_5[0][0]']               \n",
      "                                                                                                  \n",
      " conv1d_6 (Conv1D)              (None, 90, 32)       5152        ['activation_4[0][0]']           \n",
      "                                                                                                  \n",
      " add_2 (Add)                    (None, 90, 32)       0           ['conv1d_6[0][0]',               \n",
      "                                                                  'max_pooling1d_1[0][0]']        \n",
      "                                                                                                  \n",
      " activation_5 (Activation)      (None, 90, 32)       0           ['add_2[0][0]']                  \n",
      "                                                                                                  \n",
      " max_pooling1d_2 (MaxPooling1D)  (None, 43, 32)      0           ['activation_5[0][0]']           \n",
      "                                                                                                  \n",
      " conv1d_7 (Conv1D)              (None, 43, 32)       5152        ['max_pooling1d_2[0][0]']        \n",
      "                                                                                                  \n",
      " activation_6 (Activation)      (None, 43, 32)       0           ['conv1d_7[0][0]']               \n",
      "                                                                                                  \n",
      " conv1d_8 (Conv1D)              (None, 43, 32)       5152        ['activation_6[0][0]']           \n",
      "                                                                                                  \n",
      " add_3 (Add)                    (None, 43, 32)       0           ['conv1d_8[0][0]',               \n",
      "                                                                  'max_pooling1d_2[0][0]']        \n",
      "                                                                                                  \n",
      " activation_7 (Activation)      (None, 43, 32)       0           ['add_3[0][0]']                  \n",
      "                                                                                                  \n",
      " max_pooling1d_3 (MaxPooling1D)  (None, 20, 32)      0           ['activation_7[0][0]']           \n",
      "                                                                                                  \n",
      " conv1d_9 (Conv1D)              (None, 20, 32)       5152        ['max_pooling1d_3[0][0]']        \n",
      "                                                                                                  \n",
      " activation_8 (Activation)      (None, 20, 32)       0           ['conv1d_9[0][0]']               \n",
      "                                                                                                  \n",
      " conv1d_10 (Conv1D)             (None, 20, 32)       5152        ['activation_8[0][0]']           \n",
      "                                                                                                  \n",
      " add_4 (Add)                    (None, 20, 32)       0           ['conv1d_10[0][0]',              \n",
      "                                                                  'max_pooling1d_3[0][0]']        \n",
      "                                                                                                  \n",
      " activation_9 (Activation)      (None, 20, 32)       0           ['add_4[0][0]']                  \n",
      "                                                                                                  \n",
      " max_pooling1d_4 (MaxPooling1D)  (None, 8, 32)       0           ['activation_9[0][0]']           \n",
      "                                                                                                  \n",
      " flatten (Flatten)              (None, 256)          0           ['max_pooling1d_4[0][0]']        \n",
      "                                                                                                  \n",
      " dense (Dense)                  (None, 32)           8224        ['flatten[0][0]']                \n",
      "                                                                                                  \n",
      " activation_10 (Activation)     (None, 32)           0           ['dense[0][0]']                  \n",
      "                                                                                                  \n",
      " dense_1 (Dense)                (None, 32)           1056        ['activation_10[0][0]']          \n",
      "                                                                                                  \n",
      " dense_2 (Dense)                (None, 5)            165         ['dense_1[0][0]']                \n",
      "                                                                                                  \n",
      "==================================================================================================\n",
      "Total params: 50,853\n",
      "Trainable params: 50,853\n",
      "Non-trainable params: 0\n",
      "__________________________________________________________________________________________________\n"
     ]
    }
   ],
   "source": [
    "from tensorflow.keras import models, layers, optimizers, callbacks\n",
    "\n",
    "inputs = layers.Input(shape=(feature,depth))\n",
    "C   = layers.Conv1D(filters=32, kernel_size=5, strides=1)(inputs)\n",
    "\n",
    "C11 = layers.Conv1D(filters=32, kernel_size=5, strides=1, padding='same')(C)\n",
    "A11 = layers.Activation(\"relu\")(C11)\n",
    "C12 = layers.Conv1D(filters=32, kernel_size=5, strides=1, padding='same')(A11)\n",
    "S11 = layers.Add()([C12, C])\n",
    "A12 = layers.Activation(\"relu\")(S11)\n",
    "M11 = layers.MaxPooling1D(pool_size=5, strides=2)(A12)\n",
    "\n",
    "\n",
    "C21 = layers.Conv1D(filters=32, kernel_size=5, strides=1, padding='same')(M11)\n",
    "A21 = layers.Activation(\"relu\")(C21)\n",
    "C22 = layers.Conv1D(filters=32, kernel_size=5, strides=1, padding='same')(A21)\n",
    "S21 = layers.Add()([C22, M11])\n",
    "A22 = layers.Activation(\"relu\")(S11)\n",
    "M21 = layers.MaxPooling1D(pool_size=5, strides=2)(A22)\n",
    "\n",
    "\n",
    "C31 = layers.Conv1D(filters=32, kernel_size=5, strides=1, padding='same')(M21)\n",
    "A31 = layers.Activation(\"relu\")(C31)\n",
    "C32 = layers.Conv1D(filters=32, kernel_size=5, strides=1, padding='same')(A31)\n",
    "S31 = layers.Add()([C32, M21])\n",
    "A32 = layers.Activation(\"relu\")(S31)\n",
    "M31 = layers.MaxPooling1D(pool_size=5, strides=2)(A32)\n",
    "\n",
    "\n",
    "C41 = layers.Conv1D(filters=32, kernel_size=5, strides=1, padding='same')(M31)\n",
    "A41 = layers.Activation(\"relu\")(C41)\n",
    "C42 = layers.Conv1D(filters=32, kernel_size=5, strides=1, padding='same')(A41)\n",
    "S41 = layers.Add()([C42, M31])\n",
    "A42 = layers.Activation(\"relu\")(S41)\n",
    "M41 = layers.MaxPooling1D(pool_size=5, strides=2)(A42)\n",
    "\n",
    "\n",
    "C51 = layers.Conv1D(filters=32, kernel_size=5, strides=1, padding='same')(M41)\n",
    "A51 = layers.Activation(\"relu\")(C51)\n",
    "C52 = layers.Conv1D(filters=32, kernel_size=5, strides=1, padding='same')(A51)\n",
    "S51 = layers.Add()([C52, M41])\n",
    "A52 = layers.Activation(\"relu\")(S51)\n",
    "M51 = layers.MaxPooling1D(pool_size=5, strides=2)(A52)\n",
    "\n",
    "F1  = layers.Flatten()(M51)\n",
    "\n",
    "D1  = layers.Dense(32)(F1)\n",
    "A6  = layers.Activation(\"relu\")(D1)\n",
    "D2  = layers.Dense(32)(A6)\n",
    "\n",
    "outputs = layers.Dense(num_classes, activation=\"softmax\")(D2)\n",
    "\n",
    "model = models.Model(inputs=inputs, outputs=outputs)\n",
    "\n",
    "model.summary()"
   ]
  },
  {
   "cell_type": "code",
   "execution_count": 61,
   "id": "f22ab851",
   "metadata": {
    "ExecuteTime": {
     "end_time": "2023-08-11T01:16:18.012338Z",
     "start_time": "2023-08-11T01:16:17.998342Z"
    }
   },
   "outputs": [],
   "source": [
    "model.compile(loss='categorical_crossentropy', optimizer='adam', metrics=['accuracy'])"
   ]
  },
  {
   "cell_type": "code",
   "execution_count": 62,
   "id": "a4108d71",
   "metadata": {
    "ExecuteTime": {
     "end_time": "2023-08-11T01:16:20.598718Z",
     "start_time": "2023-08-11T01:16:20.590738Z"
    }
   },
   "outputs": [],
   "source": [
    "batch_size = 50\n",
    "num_epochs = 20"
   ]
  },
  {
   "cell_type": "code",
   "execution_count": 63,
   "id": "ddc1d43f",
   "metadata": {
    "ExecuteTime": {
     "end_time": "2023-08-11T01:21:20.559167Z",
     "start_time": "2023-08-11T01:16:21.122172Z"
    }
   },
   "outputs": [
    {
     "name": "stdout",
     "output_type": "stream",
     "text": [
      "Epoch 1/20\n",
      "1752/1752 [==============================] - 35s 8ms/step - loss: 0.1672 - accuracy: 0.9539 - val_loss: 0.1004 - val_accuracy: 0.9745\n",
      "Epoch 2/20\n",
      "1752/1752 [==============================] - 14s 8ms/step - loss: 0.0836 - accuracy: 0.9766 - val_loss: 0.0959 - val_accuracy: 0.9725\n",
      "Epoch 3/20\n",
      "1752/1752 [==============================] - 14s 8ms/step - loss: 0.0683 - accuracy: 0.9806 - val_loss: 0.0692 - val_accuracy: 0.9812\n",
      "Epoch 4/20\n",
      "1752/1752 [==============================] - 14s 8ms/step - loss: 0.0594 - accuracy: 0.9826 - val_loss: 0.0699 - val_accuracy: 0.9820\n",
      "Epoch 5/20\n",
      "1752/1752 [==============================] - 14s 8ms/step - loss: 0.0533 - accuracy: 0.9844 - val_loss: 0.0620 - val_accuracy: 0.9826\n",
      "Epoch 6/20\n",
      "1752/1752 [==============================] - 14s 8ms/step - loss: 0.0499 - accuracy: 0.9851 - val_loss: 0.0595 - val_accuracy: 0.9838\n",
      "Epoch 7/20\n",
      "1752/1752 [==============================] - 13s 8ms/step - loss: 0.0457 - accuracy: 0.9861 - val_loss: 0.0596 - val_accuracy: 0.9837\n",
      "Epoch 8/20\n",
      "1752/1752 [==============================] - 14s 8ms/step - loss: 0.0423 - accuracy: 0.9870 - val_loss: 0.0709 - val_accuracy: 0.9826\n",
      "Epoch 9/20\n",
      "1752/1752 [==============================] - 14s 8ms/step - loss: 0.0418 - accuracy: 0.9874 - val_loss: 0.0598 - val_accuracy: 0.9850\n",
      "Epoch 10/20\n",
      "1752/1752 [==============================] - 14s 8ms/step - loss: 0.0388 - accuracy: 0.9875 - val_loss: 0.0620 - val_accuracy: 0.9841\n",
      "Epoch 11/20\n",
      "1752/1752 [==============================] - 14s 8ms/step - loss: 0.0370 - accuracy: 0.9883 - val_loss: 0.0641 - val_accuracy: 0.9843\n",
      "Epoch 12/20\n",
      "1752/1752 [==============================] - 14s 8ms/step - loss: 0.0365 - accuracy: 0.9882 - val_loss: 0.0575 - val_accuracy: 0.9846\n",
      "Epoch 13/20\n",
      "1752/1752 [==============================] - 14s 8ms/step - loss: 0.0334 - accuracy: 0.9894 - val_loss: 0.0551 - val_accuracy: 0.9861\n",
      "Epoch 14/20\n",
      "1752/1752 [==============================] - 14s 8ms/step - loss: 0.0333 - accuracy: 0.9894 - val_loss: 0.0657 - val_accuracy: 0.9818\n",
      "Epoch 15/20\n",
      "1752/1752 [==============================] - 14s 8ms/step - loss: 0.0320 - accuracy: 0.9897 - val_loss: 0.0592 - val_accuracy: 0.9852\n",
      "Epoch 16/20\n",
      "1752/1752 [==============================] - 14s 8ms/step - loss: 0.0300 - accuracy: 0.9904 - val_loss: 0.0686 - val_accuracy: 0.9815\n",
      "Epoch 17/20\n",
      "1752/1752 [==============================] - 14s 8ms/step - loss: 0.0300 - accuracy: 0.9905 - val_loss: 0.0549 - val_accuracy: 0.9864\n",
      "Epoch 18/20\n",
      "1752/1752 [==============================] - 13s 8ms/step - loss: 0.0296 - accuracy: 0.9904 - val_loss: 0.0552 - val_accuracy: 0.9844\n",
      "Epoch 19/20\n",
      "1752/1752 [==============================] - 14s 8ms/step - loss: 0.0277 - accuracy: 0.9911 - val_loss: 0.0615 - val_accuracy: 0.9845\n",
      "Epoch 20/20\n",
      "1752/1752 [==============================] - 14s 8ms/step - loss: 0.0262 - accuracy: 0.9916 - val_loss: 0.0513 - val_accuracy: 0.9867\n"
     ]
    }
   ],
   "source": [
    "history = model.fit(X_train, y_train, epochs=num_epochs, batch_size=batch_size, validation_data=(X_test, y_test))"
   ]
  },
  {
   "cell_type": "code",
   "execution_count": 68,
   "id": "a10a1e7b",
   "metadata": {
    "ExecuteTime": {
     "end_time": "2023-08-11T01:22:57.546042Z",
     "start_time": "2023-08-11T01:22:56.246450Z"
    }
   },
   "outputs": [
    {
     "name": "stdout",
     "output_type": "stream",
     "text": [
      "INFO:tensorflow:Assets written to: ecg_arrhythmia_with_ECG.hdf1\\assets\n"
     ]
    },
    {
     "name": "stderr",
     "output_type": "stream",
     "text": [
      "C:\\Users\\user\\anaconda3\\lib\\site-packages\\keras\\engine\\functional.py:1410: CustomMaskWarning: Custom mask layers require a config and must override get_config. When loading, the custom mask layer must be passed to the custom_objects argument.\n",
      "  layer_config = serialize_layer_fn(layer)\n",
      "C:\\Users\\user\\anaconda3\\lib\\site-packages\\keras\\saving\\saved_model\\layer_serialization.py:112: CustomMaskWarning: Custom mask layers require a config and must override get_config. When loading, the custom mask layer must be passed to the custom_objects argument.\n",
      "  return generic_utils.serialize_keras_object(obj)\n"
     ]
    }
   ],
   "source": [
    "models.save_model(model, 'ecg_arrhythmia_with_ECG.hdf1')"
   ]
  },
  {
   "cell_type": "code",
   "execution_count": 65,
   "id": "45ccca47",
   "metadata": {
    "ExecuteTime": {
     "end_time": "2023-08-11T01:21:35.818061Z",
     "start_time": "2023-08-11T01:21:35.760495Z"
    }
   },
   "outputs": [],
   "source": [
    "from sklearn.metrics import classification_report, confusion_matrix\n",
    "\n",
    "labels = [\"Normal\",\n",
    "          \"Artial Premature\",\n",
    "          \"Premature ventricular contraction\",\n",
    "          \"Fusion of ventricular and normal\",\n",
    "          \"Fusion of paced and normal\"]"
   ]
  },
  {
   "cell_type": "code",
   "execution_count": 66,
   "id": "eb8b7fbd",
   "metadata": {
    "ExecuteTime": {
     "end_time": "2023-08-11T01:21:38.245571Z",
     "start_time": "2023-08-11T01:21:36.306059Z"
    }
   },
   "outputs": [
    {
     "name": "stdout",
     "output_type": "stream",
     "text": [
      "[[18062    29    20     5     2]\n",
      " [  104   439    10     3     0]\n",
      " [   33     9  1382    23     1]\n",
      " [   16     0    11   135     0]\n",
      " [   23     0     2     0  1583]]\n"
     ]
    }
   ],
   "source": [
    "# Test Model\n",
    "predY = model.predict(X_test)\n",
    "y_pred = np.argmax(predY,axis=1)\n",
    "y_actual = np.argmax(y_test,axis=1)\n",
    "cm = confusion_matrix(y_actual, y_pred)\n",
    "print(cm)"
   ]
  },
  {
   "cell_type": "code",
   "execution_count": 67,
   "id": "d0310ced",
   "metadata": {
    "ExecuteTime": {
     "end_time": "2023-08-11T01:21:39.270637Z",
     "start_time": "2023-08-11T01:21:39.247431Z"
    },
    "scrolled": true
   },
   "outputs": [
    {
     "name": "stdout",
     "output_type": "stream",
     "text": [
      "                                   precision    recall  f1-score   support\n",
      "\n",
      "                           Normal       0.99      1.00      0.99     18118\n",
      "                 Artial Premature       0.92      0.79      0.85       556\n",
      "Premature ventricular contraction       0.97      0.95      0.96      1448\n",
      " Fusion of ventricular and normal       0.81      0.83      0.82       162\n",
      "       Fusion of paced and normal       1.00      0.98      0.99      1608\n",
      "\n",
      "                         accuracy                           0.99     21892\n",
      "                        macro avg       0.94      0.91      0.92     21892\n",
      "                     weighted avg       0.99      0.99      0.99     21892\n",
      "\n"
     ]
    }
   ],
   "source": [
    "print(classification_report(y_actual, y_pred, target_names=labels))"
   ]
  },
  {
   "cell_type": "code",
   "execution_count": null,
   "id": "86a24df4",
   "metadata": {},
   "outputs": [],
   "source": []
  }
 ],
 "metadata": {
  "kernelspec": {
   "display_name": "Python 3 (ipykernel)",
   "language": "python",
   "name": "python3"
  },
  "language_info": {
   "codemirror_mode": {
    "name": "ipython",
    "version": 3
   },
   "file_extension": ".py",
   "mimetype": "text/x-python",
   "name": "python",
   "nbconvert_exporter": "python",
   "pygments_lexer": "ipython3",
   "version": "3.8.8"
  }
 },
 "nbformat": 4,
 "nbformat_minor": 5
}
